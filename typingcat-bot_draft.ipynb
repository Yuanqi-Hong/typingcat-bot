{
 "cells": [
  {
   "cell_type": "code",
   "execution_count": 125,
   "metadata": {},
   "outputs": [],
   "source": [
    "from selenium import webdriver\n",
    "from selenium.webdriver.common.keys import Keys\n",
    "from selenium.webdriver.support.ui import Select\n",
    "from selenium.webdriver.support.ui import WebDriverWait"
   ]
  },
  {
   "cell_type": "code",
   "execution_count": 140,
   "metadata": {},
   "outputs": [],
   "source": [
    "driver = webdriver.Chrome()\n",
    "driver.get('https://thetypingcat.com/typing-speed-test/1m')"
   ]
  },
  {
   "cell_type": "code",
   "execution_count": 142,
   "metadata": {},
   "outputs": [],
   "source": [
    "typing = True\n",
    "while typing:\n",
    "    try:\n",
    "        actives = []\n",
    "        lines = driver.find_elements_by_class_name('line')\n",
    "        for line in lines:\n",
    "            if line.get_attribute('class') == 'line active':\n",
    "                actives.append(line)\n",
    "        for char in actives[-1].text:\n",
    "            if char == '⏎':\n",
    "                driver.find_element_by_tag_name('body').send_keys(Keys.RETURN)\n",
    "            else:\n",
    "                driver.find_element_by_tag_name('body').send_keys(char)\n",
    "    except:\n",
    "        driver.find_element_by_class_name('btn-primary').click()\n",
    "        typing = False"
   ]
  },
  {
   "cell_type": "code",
   "execution_count": null,
   "metadata": {},
   "outputs": [],
   "source": []
  }
 ],
 "metadata": {
  "kernelspec": {
   "display_name": "Python 3",
   "language": "python",
   "name": "python3"
  },
  "language_info": {
   "codemirror_mode": {
    "name": "ipython",
    "version": 3
   },
   "file_extension": ".py",
   "mimetype": "text/x-python",
   "name": "python",
   "nbconvert_exporter": "python",
   "pygments_lexer": "ipython3",
   "version": "3.6.5"
  }
 },
 "nbformat": 4,
 "nbformat_minor": 2
}
